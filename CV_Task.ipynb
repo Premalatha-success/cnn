{
 "cells": [
  {
   "cell_type": "markdown",
   "id": "5091b082",
   "metadata": {},
   "source": [
    "### Import packages like numpy,sequential,conv,maxpooling,flatten,dense,dropout\n"
   ]
  },
  {
   "cell_type": "code",
   "execution_count": null,
   "id": "3bd89330",
   "metadata": {},
   "outputs": [],
   "source": []
  },
  {
   "cell_type": "code",
   "execution_count": null,
   "id": "dc813f45",
   "metadata": {},
   "outputs": [],
   "source": [
    "from keras.datasets import cifar10"
   ]
  },
  {
   "cell_type": "code",
   "execution_count": null,
   "id": "5c5e7c19",
   "metadata": {},
   "outputs": [],
   "source": [
    "(x_train,y_train),(x_test,y_test)=cifar10.load_data()"
   ]
  },
  {
   "cell_type": "markdown",
   "id": "63628ea4",
   "metadata": {},
   "source": [
    "### Normalize the pixel values 0 to 1"
   ]
  },
  {
   "cell_type": "code",
   "execution_count": null,
   "id": "d818458f",
   "metadata": {},
   "outputs": [],
   "source": []
  },
  {
   "cell_type": "markdown",
   "id": "90ccf726",
   "metadata": {},
   "source": [
    "### one hot encoded vectors for y"
   ]
  },
  {
   "cell_type": "code",
   "execution_count": null,
   "id": "095e00c0",
   "metadata": {},
   "outputs": [],
   "source": []
  },
  {
   "cell_type": "markdown",
   "id": "0d698b2c",
   "metadata": {},
   "source": [
    "### Create the model\n",
    "### convolution->32 with 3 x 3,relu,max pooling 2 x2,conv 64 3 x3,relu,maxpooling ,2 x2"
   ]
  },
  {
   "cell_type": "markdown",
   "id": "2c0f648e",
   "metadata": {},
   "source": [
    "### flatten and make ann with hidden layer 256 neurons and relu and add a droput of 0.5 and compile the model"
   ]
  },
  {
   "cell_type": "markdown",
   "id": "9a6eb8f8",
   "metadata": {},
   "source": [
    "### Data augmentation\n",
    "\n",
    "batch_size = 128\n",
    "epochs = 50\n",
    "steps_per_epoch = len(x_train) // batch_size\n",
    "\n",
    "model.fit_generator(datagen.flow(x_train, y_train, batch_size=batch_size),\n",
    "                    steps_per_epoch=steps_per_epoch,\n",
    "                    epochs=epochs,\n",
    "                    validation_data=(x_test, y_test))\n"
   ]
  },
  {
   "cell_type": "markdown",
   "id": "669b1bbb",
   "metadata": {},
   "source": [
    "### Evaluate the results"
   ]
  },
  {
   "cell_type": "code",
   "execution_count": null,
   "id": "4bef8ed6",
   "metadata": {},
   "outputs": [],
   "source": []
  }
 ],
 "metadata": {
  "kernelspec": {
   "display_name": "Python 3 (ipykernel)",
   "language": "python",
   "name": "python3"
  },
  "language_info": {
   "codemirror_mode": {
    "name": "ipython",
    "version": 3
   },
   "file_extension": ".py",
   "mimetype": "text/x-python",
   "name": "python",
   "nbconvert_exporter": "python",
   "pygments_lexer": "ipython3",
   "version": "3.10.9"
  }
 },
 "nbformat": 4,
 "nbformat_minor": 5
}
